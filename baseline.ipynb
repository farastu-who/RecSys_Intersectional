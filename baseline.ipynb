{
 "cells": [
  {
   "cell_type": "code",
   "execution_count": null,
   "id": "d4f03105-b9a5-40ab-a26f-61058fac01ba",
   "metadata": {},
   "outputs": [],
   "source": [
    "import tensorflow as tf"
   ]
  },
  {
   "cell_type": "code",
   "execution_count": 1,
   "id": "3fb0f14c-b623-49f6-90b9-4e5e83c6c145",
   "metadata": {},
   "outputs": [],
   "source": [
    "#import the necessary libraries\n",
    "import pandas as pd\n",
    "import numpy as np\n",
    "from sklearn.decomposition import NMF\n",
    "from sklearn.metrics import mean_squared_error\n",
    "from sklearn.model_selection import train_test_split\n",
    "from sklearn.preprocessing import MaxAbsScaler"
   ]
  },
  {
   "cell_type": "code",
   "execution_count": null,
   "id": "febbde7b-6560-497f-913a-37d0819c31fe",
   "metadata": {},
   "outputs": [],
   "source": [
    "# Load datasets\n",
    "compat_df = pd.read_csv('/data/compat.csv')\n",
    "items_df = pd.read_csv('/data/items.csv')\n",
    "recs_df = pd.read_csv('/data/recs.csv')"
   ]
  },
  {
   "cell_type": "code",
   "execution_count": null,
   "id": "82172abe-8fae-4378-9048-f8dacb7feeef",
   "metadata": {},
   "outputs": [],
   "source": [
    "# Preprocessing\n",
    "# Create a user-feature matrix\n",
    "user_features = compat_df.pivot(index=compat_df.columns[0], columns=compat_df.columns[1], values=compat_df.columns[2])\n",
    "\n",
    "# Create an item-feature matrix\n",
    "item_features = items_df.pivot(index=items_df.columns[0], columns=items_df.columns[1], values=items_df.columns[2])\n",
    "\n",
    "# Normalize user features\n",
    "scaler = MaxAbsScaler()\n",
    "user_features_scaled = scaler.fit_transform(user_features.fillna(0))"
   ]
  },
  {
   "cell_type": "code",
   "execution_count": null,
   "id": "eb089de3-87ef-456b-a44c-6da41a1af41c",
   "metadata": {},
   "outputs": [],
   "source": [
    "# Split the data into training and test sets\n",
    "train_recs, test_recs = train_test_split(recs_df, test_size=0.2, random_state=42)"
   ]
  },
  {
   "cell_type": "code",
   "execution_count": null,
   "id": "0da4c064-b89b-4de0-97c1-46be5f66247e",
   "metadata": {},
   "outputs": [],
   "source": [
    "# Create user-item matrices for training and testing\n",
    "train_matrix = train_recs.pivot(index=train_recs.columns[0], columns=train_recs.columns[1], values=train_recs.columns[2]).fillna(0)\n",
    "\n",
    "test_matrix = test_recs.pivot(index=test_recs.columns[0], columns=test_recs.columns[1], values=test_recs.columns[2]).fillna(0)"
   ]
  },
  {
   "cell_type": "code",
   "execution_count": null,
   "id": "a1e32807-219b-43f8-9da5-6c4a9a96b4c5",
   "metadata": {},
   "outputs": [],
   "source": [
    "# Build and train the model NMF (Non-negative Matrix Factorization)\n",
    "nmf = NMF(n_components=15, init='random', random_state=0)\n",
    "user_matrix = nmf.fit_transform(train_matrix)\n",
    "item_matrix = nmf.components_"
   ]
  },
  {
   "cell_type": "code",
   "execution_count": null,
   "id": "49ffecfc-fd89-4fa5-b1b4-2de9b47a3afb",
   "metadata": {},
   "outputs": [],
   "source": [
    "# Make predictions\n",
    "train_predictions = np.dot(user_matrix, item_matrix)\n",
    "test_predictions = np.dot(nmf.transform(test_matrix), item_matrix)\n"
   ]
  },
  {
   "cell_type": "code",
   "execution_count": null,
   "id": "3f94f21f-6e8a-4d1e-aec0-142f127612a3",
   "metadata": {},
   "outputs": [],
   "source": [
    "# Flatten the test matrix and predictions to compute MSE\n",
    "non_zero_mask = test_matrix.values != 0\n",
    "mse = mean_squared_error(test_matrix.values[non_zero_mask], test_predictions[non_zero_mask])\n",
    "print(f'Mean Squared Error (MSE): {mse}')"
   ]
  },
  {
   "cell_type": "code",
   "execution_count": null,
   "id": "52894100-c398-4aca-acf9-f82d285379c4",
   "metadata": {},
   "outputs": [],
   "source": [
    "# Function to compute nDCG at k for a set of predictions and true values\n",
    "def ndcg_at_k(y_true, y_score, k=10):\n",
    "    actual = np.argsort(y_true)[::-1][:k]\n",
    "    predicted = np.argsort(y_score)[::-1][:k]\n",
    "    idcg = np.sum(1.0/np.log2(np.arange(2, k + 2)))\n",
    "    dcg = np.sum(1.0/np.log2(np.arange(2, k + 2)) * (y_true[predicted] == y_true[actual]))\n",
    "    return dcg / idcg"
   ]
  },
  {
   "cell_type": "code",
   "execution_count": null,
   "id": "2ee48f84-1d1a-436f-adca-df3f31fb4f66",
   "metadata": {},
   "outputs": [],
   "source": [
    "# Calculate nDCG for the test set\n",
    "ndcg_scores = []\n",
    "for i in range(test_matrix.shape[0]):\n",
    "    actual_ratings = test_matrix.values[i, :]\n",
    "    predicted_ratings = test_predictions[i, :]\n",
    "    if actual_ratings.sum() > 0:  # User has rated at least one item\n",
    "        ndcg = ndcg_at_k(actual_ratings, predicted_ratings)\n",
    "        ndcg_scores.append(ndcg)\n",
    "\n",
    "average_ndcg = np.mean(ndcg_scores)\n",
    "print(f'Average nDCG: {average_ndcg}')"
   ]
  }
 ],
 "metadata": {
  "kernelspec": {
   "display_name": "Python 3 (ipykernel)",
   "language": "python",
   "name": "python3"
  },
  "language_info": {
   "codemirror_mode": {
    "name": "ipython",
    "version": 3
   },
   "file_extension": ".py",
   "mimetype": "text/x-python",
   "name": "python",
   "nbconvert_exporter": "python",
   "pygments_lexer": "ipython3",
   "version": "3.10.8"
  }
 },
 "nbformat": 4,
 "nbformat_minor": 5
}
